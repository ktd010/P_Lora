{
 "cells": [
  {
   "cell_type": "code",
   "execution_count": 1,
   "id": "8209bea0",
   "metadata": {
    "lines_to_next_cell": 2
   },
   "outputs": [],
   "source": [
    "import torch\n",
    "from minlora import add_lora, apply_to_lora, disable_lora, enable_lora, get_lora_params, merge_lora, name_is_lora, remove_lora, load_multiple_lora, select_lora, get_lora_state_dict\n",
    "_ = torch.set_grad_enabled(False)"
   ]
  },
  {
   "cell_type": "code",
   "execution_count": null,
   "id": "c1fbc1c9",
   "metadata": {},
   "outputs": [],
   "source": [
    "#####below added extra remove  "
   ]
  },
  {
   "cell_type": "code",
   "execution_count": 3,
   "id": "b7f26949",
   "metadata": {},
   "outputs": [
    {
     "ename": "AttributeError",
     "evalue": "'ImageClassifierOutput' object has no attribute 'last_hidden_state'",
     "output_type": "error",
     "traceback": [
      "\u001b[0;31m---------------------------------------------------------------------------\u001b[0m",
      "\u001b[0;31mAttributeError\u001b[0m                            Traceback (most recent call last)",
      "Cell \u001b[0;32mIn[3], line 19\u001b[0m\n\u001b[1;32m     17\u001b[0m \u001b[38;5;66;03m# Perform a forward pass before applying LoRA\u001b[39;00m\n\u001b[1;32m     18\u001b[0m \u001b[38;5;28;01mwith\u001b[39;00m torch\u001b[38;5;241m.\u001b[39mno_grad():\n\u001b[0;32m---> 19\u001b[0m     output_before_lora \u001b[38;5;241m=\u001b[39m \u001b[43mvit_model\u001b[49m\u001b[43m(\u001b[49m\u001b[43mpixel_values\u001b[49m\u001b[38;5;241;43m=\u001b[39;49m\u001b[43mdummy_input\u001b[49m\u001b[43m)\u001b[49m\u001b[38;5;241;43m.\u001b[39;49m\u001b[43mlast_hidden_state\u001b[49m\n\u001b[1;32m     20\u001b[0m     \u001b[38;5;28mprint\u001b[39m(\u001b[38;5;124m\"\u001b[39m\u001b[38;5;124mOutput before applying LoRA:\u001b[39m\u001b[38;5;124m\"\u001b[39m)\n\u001b[1;32m     21\u001b[0m     \u001b[38;5;28mprint\u001b[39m(output_before_lora)\n",
      "\u001b[0;31mAttributeError\u001b[0m: 'ImageClassifierOutput' object has no attribute 'last_hidden_state'"
     ]
    }
   ],
   "source": [
    "import torch\n",
    "#from transformers import ViTModel, ViTConfig\n",
    "from minlora import add_lora, apply_to_lora\n",
    "\n",
    "# Load a pretrained ViT model from Hugging Face\n",
    "\n",
    "from transformers import ViTForImageClassification\n",
    "vit_model = ViTForImageClassification.from_pretrained(\"google/vit-base-patch16-224\", attn_implementation=\"sdpa\", torch_dtype=torch.float32)\n",
    "\n",
    "# Switch to evaluation mode for testing\n",
    "vit_model.eval()\n",
    "\n",
    "# Create a dummy input image tensor\n",
    "# ViT expects a 3-channel image input, with size matching the model (e.g., 224x224)\n",
    "dummy_input = torch.randn(1, 3, 224, 224)  # Batch size 1, 3 channels, 224x224\n",
    "\n",
    "# Perform a forward pass before applying LoRA\n",
    "with torch.no_grad():\n",
    "    output_before_lora = vit_model(pixel_values=dummy_input).last_hidden_state\n",
    "    print(\"Output before applying LoRA:\")\n",
    "    print(output_before_lora)\n",
    "\n",
    "# Add LoRA layers to the ViT model\n",
    "add_lora(vit_model)\n",
    "\n",
    "# Initialize LoRA weights (set lora_B to non-zero values)\n",
    "vit_model.apply(apply_to_lora(lambda x: torch.nn.init.ones_(x.lora_B)))\n",
    "\n",
    "# Perform a forward pass after applying LoRA\n",
    "with torch.no_grad():\n",
    "    output_after_lora = vit_model(pixel_values=dummy_input).last_hidden_state\n",
    "    print(\"Output after applying LoRA:\")\n",
    "    print(output_after_lora)\n",
    "\n",
    "# Check that the outputs are different after applying LoRA\n",
    "assert not torch.allclose(output_before_lora, output_after_lora), \"LoRA did not affect the output!\""
   ]
  },
  {
   "cell_type": "code",
   "execution_count": 2,
   "id": "492093a9",
   "metadata": {
    "lines_to_next_cell": 0
   },
   "outputs": [
    {
     "name": "stdout",
     "output_type": "stream",
     "text": [
      "tensor([[-0.3555, -0.0929,  0.6221]])\n"
     ]
    }
   ],
   "source": [
    "# a simple model\n",
    "model = torch.nn.Sequential(\n",
    "    torch.nn.Linear(in_features=5, out_features=7),\n",
    "    torch.nn.Linear(in_features=7, out_features=3),\n",
    ")\n",
    "\n",
    "x = torch.randn(1, 5)\n",
    "y = model(x)\n",
    "print(y)\n",
    "Y0 = y"
   ]
  },
  {
   "cell_type": "code",
   "execution_count": 3,
   "id": "98584a8c",
   "metadata": {
    "lines_to_next_cell": 0
   },
   "outputs": [],
   "source": [
    "# add lora to the model\n",
    "# becase B is initialized to 0, the output is the same as before\n",
    "add_lora(model)\n",
    "y = model(x)\n",
    "assert torch.allclose(y, Y0)"
   ]
  },
  {
   "cell_type": "code",
   "execution_count": 4,
   "id": "c0251891",
   "metadata": {
    "lines_to_next_cell": 0
   },
   "outputs": [
    {
     "name": "stdout",
     "output_type": "stream",
     "text": [
      "tensor([[-0.4703, -0.3157,  0.4262]])\n"
     ]
    }
   ],
   "source": [
    "# to make the output different, we need to initialize B to something non-zero\n",
    "model.apply(apply_to_lora(lambda x: torch.nn.init.ones_(x.lora_B)))\n",
    "y = model(x)\n",
    "print(y)\n",
    "assert not torch.allclose(y, Y0)\n",
    "Y1 = y"
   ]
  },
  {
   "cell_type": "code",
   "execution_count": 5,
   "id": "196087bc",
   "metadata": {
    "lines_to_next_cell": 0
   },
   "outputs": [],
   "source": [
    "# now let's try to disable lora, the output is the same as before lora is added\n",
    "disable_lora(model)\n",
    "y = model(x)\n",
    "assert torch.allclose(y, Y0)"
   ]
  },
  {
   "cell_type": "code",
   "execution_count": 6,
   "id": "1e9cba3c",
   "metadata": {
    "lines_to_next_cell": 0
   },
   "outputs": [],
   "source": [
    "# enable lora again\n",
    "enable_lora(model)\n",
    "y = model(x)\n",
    "assert torch.allclose(y, Y1)"
   ]
  },
  {
   "cell_type": "code",
   "execution_count": 7,
   "id": "57f19300",
   "metadata": {},
   "outputs": [
    {
     "data": {
      "text/plain": [
       "dict_keys(['0.parametrizations.weight.0.lora_A', '0.parametrizations.weight.0.lora_B', '1.parametrizations.weight.0.lora_A', '1.parametrizations.weight.0.lora_B'])"
      ]
     },
     "execution_count": 7,
     "metadata": {},
     "output_type": "execute_result"
    }
   ],
   "source": [
    "# let's save the state dict for later use\n",
    "state_dict_to_save = get_lora_state_dict(model)\n",
    "state_dict_to_save.keys()"
   ]
  },
  {
   "cell_type": "code",
   "execution_count": 8,
   "id": "19a06b21",
   "metadata": {},
   "outputs": [],
   "source": [
    "# you can remove lora from the model\n",
    "remove_lora(model)"
   ]
  },
  {
   "cell_type": "code",
   "execution_count": 9,
   "id": "522e71f1",
   "metadata": {
    "lines_to_next_cell": 0
   },
   "outputs": [],
   "source": [
    "# lets try to load the lora back\n",
    "# first we need to add lora to the model\n",
    "add_lora(model)\n",
    "# then we can load the lora parameters\n",
    "# strict=False is needed because we are loading a subset of the parameters\n",
    "_ = model.load_state_dict(state_dict_to_save, strict=False) \n",
    "y = model(x)\n",
    "assert torch.allclose(y, Y1)"
   ]
  },
  {
   "cell_type": "code",
   "execution_count": 10,
   "id": "9f0c8570",
   "metadata": {
    "lines_to_next_cell": 0
   },
   "outputs": [],
   "source": [
    "# we can merge it to make it a normal linear layer, so there is no overhead for inference\n",
    "merge_lora(model)\n",
    "y = model(x)\n",
    "assert torch.allclose(y, Y1)"
   ]
  },
  {
   "cell_type": "code",
   "execution_count": 11,
   "id": "ee283143",
   "metadata": {},
   "outputs": [
    {
     "data": {
      "text/plain": [
       "Sequential(\n",
       "  (0): Linear(in_features=5, out_features=7, bias=True)\n",
       "  (1): Linear(in_features=7, out_features=3, bias=True)\n",
       ")"
      ]
     },
     "execution_count": 11,
     "metadata": {},
     "output_type": "execute_result"
    }
   ],
   "source": [
    "# model now has no lora parameters\n",
    "model"
   ]
  },
  {
   "attachments": {},
   "cell_type": "markdown",
   "id": "f3c246e1",
   "metadata": {},
   "source": [
    "## Training a model"
   ]
  },
  {
   "cell_type": "code",
   "execution_count": 12,
   "id": "edfaee1e",
   "metadata": {
    "lines_to_next_cell": 0
   },
   "outputs": [],
   "source": [
    "model = torch.nn.Linear(in_features=5, out_features=3)\n",
    "# Step 1: Add LoRA to the model\n",
    "add_lora(model)\n",
    "\n",
    "# Step 2: Collect the parameters, pass them to the optimizer\n",
    "\n",
    "parameters = [\n",
    "    {\"params\": list(get_lora_params(model))},\n",
    "]\n",
    "optimizer = torch.optim.AdamW(parameters, lr=1e-3)\n",
    "\n",
    "# Step 3: Train the model\n",
    "# ...\n",
    "# simulate training, update the LoRA parameters\n",
    "model.apply(apply_to_lora(lambda x: torch.nn.init.normal_(x.lora_A)))\n",
    "model.apply(apply_to_lora(lambda x: torch.nn.init.normal_(x.lora_B)))\n",
    "\n",
    "# Step 4: export the LoRA parameters\n",
    "state_dict = model.state_dict()\n",
    "lora_state_dict = {k: v for k, v in state_dict.items() if name_is_lora(k)}"
   ]
  },
  {
   "attachments": {},
   "cell_type": "markdown",
   "id": "539e7d19",
   "metadata": {},
   "source": [
    "## Loading and Inferencing with LoRA"
   ]
  },
  {
   "cell_type": "code",
   "execution_count": 13,
   "id": "1a9836de",
   "metadata": {},
   "outputs": [],
   "source": [
    "# Step 1: Add LoRA to your model\n",
    "add_lora(model)\n",
    "\n",
    "# Step 2: Load the LoRA parameters\n",
    "_ = model.load_state_dict(lora_state_dict, strict=False)\n",
    "\n",
    "# Step 3: Merge the LoRA parameters into the model\n",
    "merge_lora(model)"
   ]
  },
  {
   "attachments": {},
   "cell_type": "markdown",
   "id": "ccba9d68",
   "metadata": {},
   "source": [
    "## Inferencing with multiple LoRA models"
   ]
  },
  {
   "cell_type": "code",
   "execution_count": 14,
   "id": "a0ef4b28",
   "metadata": {},
   "outputs": [],
   "source": [
    "# to avoid re-adding lora to the model when rerun the cell, remove lora first \n",
    "remove_lora(model)\n",
    "# Step 1: Add LoRA to your model\n",
    "add_lora(model)\n",
    "\n",
    "# Step 2: Load the LoRA parameters\n",
    "\n",
    "# fake 3 sets of LoRA parameters\n",
    "lora_state_dict_0 = lora_state_dict\n",
    "lora_state_dict_1 = {k: torch.ones_like(v) for k, v in lora_state_dict.items()}\n",
    "lora_state_dict_2 = {k: torch.zeros_like(v) for k, v in lora_state_dict.items()}\n",
    "lora_state_dicts = [lora_state_dict_0, lora_state_dict_1, lora_state_dict_2]\n",
    "\n",
    "load_multiple_lora(model, lora_state_dicts)\n",
    "\n",
    "# Step 3: Select which LoRA to use at inference time\n",
    "Y0 = select_lora(model, 0)(x)\n",
    "Y1 = select_lora(model, 1)(x)\n",
    "Y2 = select_lora(model, 2)(x)"
   ]
  },
  {
   "cell_type": "code",
   "execution_count": 15,
   "id": "c67602a3",
   "metadata": {},
   "outputs": [
    {
     "data": {
      "text/plain": [
       "(tensor([[-0.6234,  2.2759, -0.9541]]),\n",
       " tensor([[2.4910, 3.4921, 1.5635]]),\n",
       " tensor([[ 0.3378,  1.3389, -0.5897]]))"
      ]
     },
     "execution_count": 15,
     "metadata": {},
     "output_type": "execute_result"
    }
   ],
   "source": [
    "Y0, Y1, Y2"
   ]
  },
  {
   "cell_type": "code",
   "execution_count": 16,
   "id": "537c5c6c",
   "metadata": {},
   "outputs": [
    {
     "name": "stdout",
     "output_type": "stream",
     "text": [
      "tensor([[-0.6234,  2.2759, -0.9541]])\n",
      "tensor([[2.4910, 3.4921, 1.5635]])\n",
      "tensor([[ 0.3378,  1.3389, -0.5897]])\n"
     ]
    }
   ],
   "source": [
    "remove_lora(model)\n",
    "init_state_dict = model.state_dict()\n",
    "# verify that it's the same as if we load the lora parameters one by one\n",
    "for state_dict in lora_state_dicts:\n",
    "    remove_lora(model)\n",
    "    _ = model.load_state_dict(init_state_dict, strict=False)\n",
    "    add_lora(model)\n",
    "    _ = model.load_state_dict(state_dict, strict=False)\n",
    "    merge_lora(model)\n",
    "    y = model(x)\n",
    "    print(y)"
   ]
  }
 ],
 "metadata": {
  "jupytext": {
   "cell_metadata_filter": "-all",
   "main_language": "python",
   "notebook_metadata_filter": "-all"
  },
  "kernelspec": {
   "display_name": "diffu",
   "language": "python",
   "name": "python3"
  },
  "language_info": {
   "codemirror_mode": {
    "name": "ipython",
    "version": 3
   },
   "file_extension": ".py",
   "mimetype": "text/x-python",
   "name": "python",
   "nbconvert_exporter": "python",
   "pygments_lexer": "ipython3",
   "version": "3.8.20"
  }
 },
 "nbformat": 4,
 "nbformat_minor": 5
}
